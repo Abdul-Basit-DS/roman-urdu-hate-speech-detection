{
 "cells": [
  {
   "cell_type": "markdown",
   "id": "a998cf96-38d0-4695-9340-90d6687f65e6",
   "metadata": {},
   "source": [
    "## <center> Hate Speech Detection In Roman Urdu Using Machine Learning"
   ]
  },
  {
   "cell_type": "markdown",
   "id": "84cc5b72-5893-4305-9093-84f03bfdb6ff",
   "metadata": {},
   "source": [
    "##### Importing Necassary Libraries"
   ]
  },
  {
   "cell_type": "code",
   "execution_count": 1,
   "id": "f6a3807b-7c10-4163-8130-b2946a59b23e",
   "metadata": {
    "id": "f6a3807b-7c10-4163-8130-b2946a59b23e"
   },
   "outputs": [],
   "source": [
    "import pandas as pd\n",
    "import numpy as np\n",
    "from sklearn.feature_extraction.text import CountVectorizer\n",
    "import nltk\n",
    "from sklearn import preprocessing\n",
    "import re"
   ]
  },
  {
   "cell_type": "markdown",
   "id": "58655c1c-5707-4c02-95f2-0312870d9338",
   "metadata": {},
   "source": [
    "##### Reading Data From 'HS-Comments.xlsx' Using Python Pandas Library "
   ]
  },
  {
   "cell_type": "code",
   "execution_count": 3,
   "id": "1ca7773b-f9e3-4141-8085-987aee52116d",
   "metadata": {
    "id": "1ca7773b-f9e3-4141-8085-987aee52116d",
    "scrolled": true
   },
   "outputs": [
    {
     "data": {
      "text/html": [
       "<div>\n",
       "<style scoped>\n",
       "    .dataframe tbody tr th:only-of-type {\n",
       "        vertical-align: middle;\n",
       "    }\n",
       "\n",
       "    .dataframe tbody tr th {\n",
       "        vertical-align: top;\n",
       "    }\n",
       "\n",
       "    .dataframe thead th {\n",
       "        text-align: right;\n",
       "    }\n",
       "</style>\n",
       "<table border=\"1\" class=\"dataframe\">\n",
       "  <thead>\n",
       "    <tr style=\"text-align: right;\">\n",
       "      <th></th>\n",
       "      <th>Comments</th>\n",
       "      <th>Labels</th>\n",
       "    </tr>\n",
       "  </thead>\n",
       "  <tbody>\n",
       "    <tr>\n",
       "      <th>0</th>\n",
       "      <td>bubble ki baat kon kar rha hai dekho. aik male...</td>\n",
       "      <td>NHS</td>\n",
       "    </tr>\n",
       "    <tr>\n",
       "      <th>1</th>\n",
       "      <td>teri chut me sabhi bhaiyo ka lund reply de randi</td>\n",
       "      <td>HS</td>\n",
       "    </tr>\n",
       "    <tr>\n",
       "      <th>2</th>\n",
       "      <td>teri maa k aashiq hai hum pyar se tum hume abb...</td>\n",
       "      <td>HS</td>\n",
       "    </tr>\n",
       "    <tr>\n",
       "      <th>3</th>\n",
       "      <td>rt : 2 din randi rona krna hai ab</td>\n",
       "      <td>HS</td>\n",
       "    </tr>\n",
       "    <tr>\n",
       "      <th>4</th>\n",
       "      <td>arre aahiste bol.... baap log sun lenge</td>\n",
       "      <td>HS</td>\n",
       "    </tr>\n",
       "  </tbody>\n",
       "</table>\n",
       "</div>"
      ],
      "text/plain": [
       "                                            Comments Labels\n",
       "0  bubble ki baat kon kar rha hai dekho. aik male...    NHS\n",
       "1   teri chut me sabhi bhaiyo ka lund reply de randi     HS\n",
       "2  teri maa k aashiq hai hum pyar se tum hume abb...     HS\n",
       "3                  rt : 2 din randi rona krna hai ab     HS\n",
       "4            arre aahiste bol.... baap log sun lenge     HS"
      ]
     },
     "execution_count": 3,
     "metadata": {},
     "output_type": "execute_result"
    }
   ],
   "source": [
    "data_set = pd.read_excel('HS-Comments.xlsx')\n",
    "data_set.head()"
   ]
  },
  {
   "cell_type": "markdown",
   "id": "a4a7075c-535f-4689-87ff-98a645eaa1a3",
   "metadata": {
    "id": "a4a7075c-535f-4689-87ff-98a645eaa1a3"
   },
   "source": [
    "## PreProcessing "
   ]
  },
  {
   "cell_type": "markdown",
   "id": "Zpryq_oLozCa",
   "metadata": {
    "id": "Zpryq_oLozCa"
   },
   "source": [
    "##### Removing Duplicates from data sets"
   ]
  },
  {
   "cell_type": "code",
   "execution_count": 6,
   "id": "4eede28b-3ac1-4b37-a6f3-4b1f6e766843",
   "metadata": {
    "colab": {
     "base_uri": "https://localhost:8080/",
     "height": 424
    },
    "id": "4eede28b-3ac1-4b37-a6f3-4b1f6e766843",
    "outputId": "dd8b7cb8-c756-461c-d2f8-399117bfa896"
   },
   "outputs": [
    {
     "name": "stdout",
     "output_type": "stream",
     "text": [
      "Number of duplicate comments: 1\n"
     ]
    }
   ],
   "source": [
    "duplicate_count = data_set.duplicated(subset=\"Comments\").sum()\n",
    "print(f\"Number of duplicate comments: {duplicate_count}\")\n",
    "\n",
    "data_set = data_set.drop_duplicates(subset=\"Comments\" , keep = False)"
   ]
  },
  {
   "cell_type": "markdown",
   "id": "fd630a32-8f80-4fb0-8ddb-a8a095031f64",
   "metadata": {},
   "source": [
    "##### Identifying Null Values "
   ]
  },
  {
   "cell_type": "code",
   "execution_count": 8,
   "id": "ef462ec4-8b30-48ca-8510-064acd09fcac",
   "metadata": {},
   "outputs": [
    {
     "name": "stdout",
     "output_type": "stream",
     "text": [
      "Null values in each column:\n",
      "Comments    0\n",
      "Labels      0\n",
      "dtype: int64\n",
      "\n",
      "Rows left after removing nulls: 9023\n"
     ]
    }
   ],
   "source": [
    "print(\"Null values in each column:\")\n",
    "print(data_set.isnull().sum())\n",
    "\n",
    "data_set = data_set.dropna()\n",
    "\n",
    "print(\"\\nRows left after removing nulls:\", data_set.shape[0])"
   ]
  },
  {
   "cell_type": "markdown",
   "id": "1cdcb4d2-02fc-4c55-9ccd-24881bba2a70",
   "metadata": {
    "id": "1cdcb4d2-02fc-4c55-9ccd-24881bba2a70"
   },
   "source": [
    "##### Removing Stopwords"
   ]
  },
  {
   "cell_type": "code",
   "execution_count": 10,
   "id": "3317fb90-f98d-4085-93bb-901f906ad834",
   "metadata": {
    "colab": {
     "base_uri": "https://localhost:8080/",
     "height": 211
    },
    "id": "3317fb90-f98d-4085-93bb-901f906ad834",
    "outputId": "39ac6a6f-46a3-49d3-8e02-68197a29a69c",
    "scrolled": true
   },
   "outputs": [
    {
     "data": {
      "text/html": [
       "<div>\n",
       "<style scoped>\n",
       "    .dataframe tbody tr th:only-of-type {\n",
       "        vertical-align: middle;\n",
       "    }\n",
       "\n",
       "    .dataframe tbody tr th {\n",
       "        vertical-align: top;\n",
       "    }\n",
       "\n",
       "    .dataframe thead th {\n",
       "        text-align: right;\n",
       "    }\n",
       "</style>\n",
       "<table border=\"1\" class=\"dataframe\">\n",
       "  <thead>\n",
       "    <tr style=\"text-align: right;\">\n",
       "      <th></th>\n",
       "      <th>Comments</th>\n",
       "      <th>Labels</th>\n",
       "    </tr>\n",
       "  </thead>\n",
       "  <tbody>\n",
       "    <tr>\n",
       "      <th>0</th>\n",
       "      <td>bubble baat aik male feminist bhai baat system...</td>\n",
       "      <td>NHS</td>\n",
       "    </tr>\n",
       "    <tr>\n",
       "      <th>1</th>\n",
       "      <td>chut bhaiyo lund reply randi</td>\n",
       "      <td>HS</td>\n",
       "    </tr>\n",
       "    <tr>\n",
       "      <th>2</th>\n",
       "      <td>maa aashiq pyar hume abbu kahoge bete verna ma...</td>\n",
       "      <td>HS</td>\n",
       "    </tr>\n",
       "    <tr>\n",
       "      <th>3</th>\n",
       "      <td>din randi rona</td>\n",
       "      <td>HS</td>\n",
       "    </tr>\n",
       "    <tr>\n",
       "      <th>4</th>\n",
       "      <td>arre aahiste baap log lenge</td>\n",
       "      <td>HS</td>\n",
       "    </tr>\n",
       "    <tr>\n",
       "      <th>...</th>\n",
       "      <td>...</td>\n",
       "      <td>...</td>\n",
       "    </tr>\n",
       "    <tr>\n",
       "      <th>9020</th>\n",
       "      <td>hal aak din media rona mithiye riyasat madina ...</td>\n",
       "      <td>NHS</td>\n",
       "    </tr>\n",
       "    <tr>\n",
       "      <th>9021</th>\n",
       "      <td>mujhy kiya pata nhi rehtiek bar bus</td>\n",
       "      <td>NHS</td>\n",
       "    </tr>\n",
       "    <tr>\n",
       "      <th>9022</th>\n",
       "      <td>masha allah khan ads goverments banwanay chlanay</td>\n",
       "      <td>NHS</td>\n",
       "    </tr>\n",
       "    <tr>\n",
       "      <th>9023</th>\n",
       "      <td>kehny maa baap kou chordun baat maa chod doun</td>\n",
       "      <td>HS</td>\n",
       "    </tr>\n",
       "    <tr>\n",
       "      <th>9024</th>\n",
       "      <td>mjhy ishq h zaat btany mn dair</td>\n",
       "      <td>NHS</td>\n",
       "    </tr>\n",
       "  </tbody>\n",
       "</table>\n",
       "<p>9023 rows × 2 columns</p>\n",
       "</div>"
      ],
      "text/plain": [
       "                                               Comments Labels\n",
       "0     bubble baat aik male feminist bhai baat system...    NHS\n",
       "1                          chut bhaiyo lund reply randi     HS\n",
       "2     maa aashiq pyar hume abbu kahoge bete verna ma...     HS\n",
       "3                                        din randi rona     HS\n",
       "4                           arre aahiste baap log lenge     HS\n",
       "...                                                 ...    ...\n",
       "9020  hal aak din media rona mithiye riyasat madina ...    NHS\n",
       "9021                mujhy kiya pata nhi rehtiek bar bus    NHS\n",
       "9022   masha allah khan ads goverments banwanay chlanay    NHS\n",
       "9023      kehny maa baap kou chordun baat maa chod doun     HS\n",
       "9024                     mjhy ishq h zaat btany mn dair    NHS\n",
       "\n",
       "[9023 rows x 2 columns]"
      ]
     },
     "execution_count": 10,
     "metadata": {},
     "output_type": "execute_result"
    }
   ],
   "source": [
    "from nltk.corpus import stopwords as eng_stopwords\n",
    "\n",
    "def load_roman_urdu_stopwords(file_path=\"stopwords.txt\"):\n",
    "    with open(file_path, \"r\", encoding=\"utf-8\") as file:\n",
    "        ru_stopwords = set(word.strip() for word in file.readlines())\n",
    "    return ru_stopwords\n",
    "\n",
    "def clean_roman_urdu(text, ru_stopwords, en_stopwords):\n",
    "    text = text.lower()\n",
    "    text = re.sub(r'[^\\w\\s]', '', text)  \n",
    "    text = re.sub(r'\\d+', '', text)      \n",
    "    text = re.sub(r'\\s+', ' ', text).strip()  \n",
    "    words = text.split()\n",
    "    filtered_words = [word for word in words if word not in ru_stopwords and word not in en_stopwords]\n",
    "    return \" \".join(filtered_words)\n",
    "\n",
    "roman_urdu_stopwords = load_roman_urdu_stopwords()\n",
    "english_stopwords = set(eng_stopwords.words(\"english\"))\n",
    "\n",
    "data_set['Comments'] = data_set['Comments'].apply(lambda x: clean_roman_urdu(x, roman_urdu_stopwords, english_stopwords))\n",
    "\n",
    "data_set\n"
   ]
  },
  {
   "cell_type": "markdown",
   "id": "85f859bb-307b-4e4a-afd0-cbd2cb687935",
   "metadata": {},
   "source": [
    "### Feature Extraction & Train & Test Split"
   ]
  },
  {
   "cell_type": "code",
   "execution_count": 12,
   "id": "gT40vornIGJ_",
   "metadata": {
    "colab": {
     "base_uri": "https://localhost:8080/"
    },
    "id": "gT40vornIGJ_",
    "outputId": "33c21138-6933-4d1b-faf5-acf95ee51992"
   },
   "outputs": [
    {
     "name": "stdout",
     "output_type": "stream",
     "text": [
      "Feature Extraction Complete ✅\n",
      "Training Samples: 6316\n",
      "Testing Samples: 2707\n"
     ]
    }
   ],
   "source": [
    "from sklearn.feature_extraction.text import TfidfVectorizer\n",
    "from sklearn.model_selection import train_test_split\n",
    "\n",
    "\n",
    "vectorizer = TfidfVectorizer(ngram_range=(1,3), max_features=5000) \n",
    "X = vectorizer.fit_transform(data_set['Comments'])  \n",
    "y = data_set['Labels']  \n",
    "\n",
    "X_train, X_test, y_train, y_test = train_test_split(X, y, test_size=0.36,random_state=42)\n",
    "\n",
    "print(\"Feature Extraction Complete ✅\")\n",
    "print(\"Training Samples:\", X_train.shape[0])\n",
    "print(\"Testing Samples:\", X_test.shape[0])"
   ]
  },
  {
   "cell_type": "markdown",
   "id": "ddb33ac0-4624-4d30-87cb-a3ce39bf9532",
   "metadata": {},
   "source": [
    "### Machine learning Techniques"
   ]
  },
  {
   "cell_type": "markdown",
   "id": "b9fa1e09-4bad-42df-a860-f703763f28a4",
   "metadata": {},
   "source": [
    "##### Decision Tree"
   ]
  },
  {
   "cell_type": "code",
   "execution_count": 15,
   "id": "5qxzqynHQZr-",
   "metadata": {
    "colab": {
     "base_uri": "https://localhost:8080/"
    },
    "id": "5qxzqynHQZr-",
    "outputId": "efab28db-a55c-4f58-fe64-2ca1759849a2"
   },
   "outputs": [
    {
     "name": "stdout",
     "output_type": "stream",
     "text": [
      "\n",
      "🔹 Decision Tree Classifier Performance:\n",
      "\n",
      "                      Model  Accuracy  Precision    Recall  F1-Score\n",
      "0  Decision Tree Classifier  0.847802   0.847811  0.847802  0.847777\n"
     ]
    }
   ],
   "source": [
    "from sklearn.tree import DecisionTreeClassifier\n",
    "from sklearn.metrics import accuracy_score, precision_score, recall_score, f1_score\n",
    "\n",
    "decision_tree = DecisionTreeClassifier(random_state=42)\n",
    "\n",
    "decision_tree.fit(X_train, y_train)\n",
    "\n",
    "y_pred_dt = decision_tree.predict(X_test)\n",
    "\n",
    "accuracy_dt = accuracy_score(y_test, y_pred_dt)\n",
    "\n",
    "precision_dt = precision_score(y_test, y_pred_dt, average='weighted', zero_division=1)\n",
    "recall_dt = recall_score(y_test, y_pred_dt, average='weighted', zero_division=1)\n",
    "f1_dt = f1_score(y_test, y_pred_dt, average='weighted', zero_division=1)\n",
    "\n",
    "results_dt = pd.DataFrame(\n",
    "    [[\"Decision Tree Classifier\", accuracy_dt, precision_dt, recall_dt, f1_dt]],\n",
    "    columns=[\"Model\", \"Accuracy\", \"Precision\", \"Recall\", \"F1-Score\"]\n",
    ") \n",
    "\n",
    "print(\"\\n🔹 Decision Tree Classifier Performance:\\n\")\n",
    "print(results_dt)\n"
   ]
  },
  {
   "cell_type": "markdown",
   "id": "dd04ee5d-c3ff-4a13-a5a7-783339d105ad",
   "metadata": {},
   "source": [
    "##### Random Forest Tree"
   ]
  },
  {
   "cell_type": "code",
   "execution_count": 17,
   "id": "8c11dccc-ae7b-4c8f-ac31-fb6ee4cc5421",
   "metadata": {},
   "outputs": [
    {
     "name": "stdout",
     "output_type": "stream",
     "text": [
      "\n",
      "🔹 Random Forest Classifier Performance:\n",
      "\n",
      "                      Model  Accuracy  Precision    Recall  F1-Score\n",
      "0  Random Forest Classifier  0.878463   0.880954  0.878463  0.878383\n"
     ]
    }
   ],
   "source": [
    "from sklearn.ensemble import RandomForestClassifier\n",
    "\n",
    "random_forest = RandomForestClassifier(n_estimators=60, random_state=42)\n",
    "\n",
    "\n",
    "random_forest.fit(X_train, y_train)\n",
    "\n",
    "y_pred_rf = random_forest.predict(X_test)\n",
    "\n",
    "accuracy_rf = accuracy_score(y_test, y_pred_rf)\n",
    "\n",
    "precision_rf = precision_score(y_test, y_pred_rf, average='weighted', zero_division=1)\n",
    "recall_rf = recall_score(y_test, y_pred_rf, average='weighted', zero_division=1)\n",
    "f1_rf = f1_score(y_test, y_pred_rf, average='weighted', zero_division=1)\n",
    "\n",
    "results_rf = pd.DataFrame(\n",
    "    [[\"Random Forest Classifier\", accuracy_rf, precision_rf, recall_rf, f1_rf]],\n",
    "    columns=[\"Model\", \"Accuracy\", \"Precision\", \"Recall\", \"F1-Score\"]\n",
    ")\n",
    "\n",
    "print(\"\\n🔹 Random Forest Classifier Performance:\\n\")\n",
    "print(results_rf)"
   ]
  },
  {
   "cell_type": "markdown",
   "id": "27dd42cc-d825-47e4-8d3e-f5c17419c531",
   "metadata": {},
   "source": [
    "##### Naïve Bayes"
   ]
  },
  {
   "cell_type": "code",
   "execution_count": 19,
   "id": "be54bd07-bd65-4a1e-ae78-b4de5f3175e4",
   "metadata": {},
   "outputs": [
    {
     "name": "stdout",
     "output_type": "stream",
     "text": [
      "\n",
      "🔹 Naïve Bayes Classifier Performance:\n",
      "\n",
      "                    Model  Accuracy  Precision    Recall  F1-Score\n",
      "0  Naïve Bayes Classifier  0.816771   0.816778  0.816771  0.816774\n"
     ]
    }
   ],
   "source": [
    "from sklearn.naive_bayes import MultinomialNB\n",
    "\n",
    "\n",
    "naive_bayes = MultinomialNB()\n",
    "\n",
    "naive_bayes.fit(X_train, y_train)\n",
    "\n",
    "y_pred_nb = naive_bayes.predict(X_test)\n",
    "\n",
    "accuracy_nb = accuracy_score(y_test, y_pred_nb)\n",
    "\n",
    "precision_nb = precision_score(y_test, y_pred_nb, average='weighted', zero_division=1)\n",
    "recall_nb = recall_score(y_test, y_pred_nb, average='weighted', zero_division=1)\n",
    "f1_nb = f1_score(y_test, y_pred_nb, average='weighted', zero_division=1)\n",
    "\n",
    "results_nb = pd.DataFrame(\n",
    "    [[\"Naïve Bayes Classifier\", accuracy_nb, precision_nb, recall_nb, f1_nb]],\n",
    "    columns=[\"Model\", \"Accuracy\", \"Precision\", \"Recall\", \"F1-Score\"]\n",
    ")\n",
    "\n",
    "print(\"\\n🔹 Naïve Bayes Classifier Performance:\\n\")\n",
    "print(results_nb)\n"
   ]
  },
  {
   "cell_type": "markdown",
   "id": "fa46a0a5-1661-4e9e-9cda-dcc38371bd93",
   "metadata": {},
   "source": [
    "### Confusion Matrix"
   ]
  },
  {
   "cell_type": "code",
   "execution_count": 21,
   "id": "fc3b0af7-1649-40f7-b974-d64566dc3f79",
   "metadata": {},
   "outputs": [
    {
     "data": {
      "image/png": "[encoded data removed]",
      "text/plain": [
       "<Figure size 600x500 with 1 Axes>"
      ]
     },
     "metadata": {},
     "output_type": "display_data"
    },
    {
     "data": {
      "image/png": "[encoded data removed]",
      "text/plain": [
       "<Figure size 600x500 with 1 Axes>"
      ]
     },
     "metadata": {},
     "output_type": "display_data"
    },
    {
     "data": {
      "image/png": "[encoded data removed]",
      "text/plain": [
       "<Figure size 600x500 with 1 Axes>"
      ]
     },
     "metadata": {},
     "output_type": "display_data"
    }
   ],
   "source": [
    "from sklearn.metrics import confusion_matrix\n",
    "import seaborn as sns\n",
    "import matplotlib.pyplot as plt\n",
    "\n",
    "def plot_confusion_matrix(y_true, y_pred, model_name):\n",
    "    cm = confusion_matrix(y_true, y_pred)\n",
    "    \n",
    "    plt.figure(figsize=(6, 5))\n",
    "    ax = sns.heatmap(cm, annot=True, fmt='d',  cmap='Blues', cbar=False)\n",
    "    \n",
    "    ax.set_xlabel('Predicted Labels', fontsize= 12)\n",
    "    ax.set_ylabel('True Labels', fontsize=12)\n",
    "    ax.set_title(f'Confusion Matrix: {model_name}', fontsize=14, pad=12)\n",
    "    \n",
    "    ax.xaxis.set_ticklabels(['Non-Hate Speech', 'Hate Speech'])\n",
    "    ax.yaxis.set_ticklabels(['Non-Hate Speech', 'Hate Speech'])\n",
    "    \n",
    "    plt.tight_layout()\n",
    "    plt.show()\n",
    "\n",
    "plot_confusion_matrix(y_test, y_pred_dt, \"Decision Tree Classifier\")\n",
    "plot_confusion_matrix(y_test, y_pred_rf, \"Random Forest Classifier\")\n",
    "plot_confusion_matrix(y_test, y_pred_nb, \"Naïve Bayes Classifier\")"
   ]
  },
  {
   "cell_type": "markdown",
   "id": "c9b64b44-52cf-4465-a035-75bda912a8e9",
   "metadata": {},
   "source": [
    "### Accuracy Evaluation"
   ]
  },
  {
   "cell_type": "code",
   "execution_count": 23,
   "id": "2810b5bb-b34c-49cd-914a-ae55167759a2",
   "metadata": {},
   "outputs": [
    {
     "name": "stdout",
     "output_type": "stream",
     "text": [
      "\n",
      " Accuracy of Decision Tree: 84.78%\n",
      " Accuracy of Random Forest: 87.85%\n",
      " Accuracy of Naïve Bayes: 81.68%\n",
      "\n",
      " **Best Model for Toxic Comment Detection: Random Forest**\n"
     ]
    }
   ],
   "source": [
    "print(f\"\\n Accuracy of Decision Tree: {accuracy_dt * 100:.2f}%\")\n",
    "print(f\" Accuracy of Random Forest: {accuracy_rf * 100:.2f}%\")\n",
    "print(f\" Accuracy of Naïve Bayes: {accuracy_nb * 100:.2f}%\")\n",
    "\n",
    "if accuracy_dt > accuracy_rf and accuracy_dt > accuracy_nb:\n",
    "    print(\"\\n **Best Model for Toxic Comment Detection: Decision Tree**\")\n",
    "elif accuracy_rf > accuracy_dt and accuracy_rf > accuracy_nb:\n",
    "    print(\"\\n **Best Model for Toxic Comment Detection: Random Forest**\")\n",
    "else:\n",
    "    print(\"\\n **Best Model for Toxic Comment Detection: Naïve Bayes**\")\n"
   ]
  },
  {
   "cell_type": "code",
   "execution_count": 24,
   "id": "7fbd9a0b-65c3-42f9-9592-b9f68ca14e81",
   "metadata": {},
   "outputs": [
    {
     "name": "stdout",
     "output_type": "stream",
     "text": [
      "✅ Models and vectorizer saved using Joblib\n"
     ]
    }
   ],
   "source": [
    "import joblib\n",
    "\n",
    "joblib.dump(decision_tree, \"models/decision_tree_model.joblib\")\n",
    "joblib.dump(random_forest, \"models/random_forest_model.joblib\")\n",
    "joblib.dump(naive_bayes, \"models/naive_bayes_model.joblib\")\n",
    "joblib.dump(vectorizer, \"models/vectorizer.joblib\")\n",
    "\n",
    "print(\"✅ Models and vectorizer saved using Joblib\")\n",
    "\n"
   ]
  }
 ],
 "metadata": {
  "colab": {
   "provenance": []
  },
  "kernelspec": {
   "display_name": "Python 3 (ipykernel)",
   "language": "python",
   "name": "python3"
  },
  "language_info": {
   "codemirror_mode": {
    "name": "ipython",
    "version": 3
   },
   "file_extension": ".py",
   "mimetype": "text/x-python",
   "name": "python",
   "nbconvert_exporter": "python",
   "pygments_lexer": "ipython3",
   "version": "3.12.7"
  }
 },
 "nbformat": 4,
 "nbformat_minor": 5
}
